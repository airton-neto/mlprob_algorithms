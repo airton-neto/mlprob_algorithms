{
 "cells": [
  {
   "cell_type": "code",
   "execution_count": null,
   "metadata": {},
   "outputs": [],
   "source": [
    "from delfos import MetaDAO\n",
    "client = MetaDAO('jeri').get_clientDAO('ve_new')"
   ]
  },
  {
   "cell_type": "code",
   "execution_count": null,
   "metadata": {},
   "outputs": [],
   "source": [
    "data = client.read_query(\"\"\"\n",
    "    SELECT var_102, var_103, var_104, var_105, var_106, var_107, var_108, var_109, var_120, var_121, var_122, var_130, var_131,var_132\n",
    "    FROM timeseries.ts_data_506\n",
    "    WHERE device_id = 200\n",
    "    AND sample_time >= '2020-08-01 America/Fortaleza'\n",
    "    AND sample_time <= '2021-01-01 America/Fortaleza'\n",
    "\"\"\")"
   ]
  },
  {
   "cell_type": "code",
   "execution_count": null,
   "metadata": {},
   "outputs": [],
   "source": [
    "data_test = client.read_query(\"\"\"\n",
    "    SELECT var_102, var_103, var_104, var_105, var_106, var_107, var_108, var_109, var_120, var_121, var_122, var_130, var_131,var_132\n",
    "    FROM timeseries.ts_data_506\n",
    "    WHERE device_id = 200\n",
    "    AND sample_time >= '2021-01-01 America/Fortaleza'\n",
    "    AND sample_time <= '2021-01-19 America/Fortaleza'\n",
    "\"\"\")"
   ]
  },
  {
   "cell_type": "code",
   "execution_count": null,
   "metadata": {},
   "outputs": [],
   "source": [
    "data.dropna(inplace = True)\n",
    "data_test.dropna(inplace = True)"
   ]
  },
  {
   "cell_type": "code",
   "execution_count": null,
   "metadata": {},
   "outputs": [],
   "source": [
    "import numpy as np\n",
    "X = np.matrix(data.values)\n",
    "X_ = np.matrix(data_test.values)"
   ]
  },
  {
   "cell_type": "code",
   "execution_count": null,
   "metadata": {},
   "outputs": [],
   "source": [
    "# Iniciais\n",
    "L = X.shape[1]\n",
    "D = X.shape[1]\n",
    "N = X.shape[0]\n",
    "mi = X.mean(axis = 0)\n",
    "W = np.ones((D, L))\n",
    "I = np.eye(L)\n",
    "sig2 = 1"
   ]
  },
  {
   "cell_type": "code",
   "execution_count": null,
   "metadata": {},
   "outputs": [],
   "source": [
    "for i in range(1000):\n",
    "    # Passo E\n",
    "    M = W.T @ W + sig2 * I\n",
    "    Minv = np.linalg.pinv(M)\n",
    "    Ez = Minv @ W.T @ (X - np.repeat(mi, N, axis = 0)).T\n",
    "    Ezz = sig2 * Minv + Ez @ Ez.T\n",
    "\n",
    "    # Passo M\n",
    "    W = (X - np.repeat(mi, N, axis = 0)).T @ Ez.T @ np.linalg.inv(Ezz)\n",
    "    sig2 = 1.0/(N*D) * (np.power((X - np.repeat(mi, N, axis = 0)),2)).sum() - 2 * ((Ez.T @ W.T).T @ (X - np.repeat(mi, N, axis = 0))).sum() + np.trace(Ezz.T @ W.T @ W)"
   ]
  },
  {
   "cell_type": "code",
   "execution_count": null,
   "metadata": {},
   "outputs": [],
   "source": [
    "\t\n",
    "# Example of the Student's t-test\n",
    "from scipy.stats import ttest_ind\n",
    "stat, p = ttest_ind(data, data_test)\n",
    "print('stat=%.3f, p=%.3f' % (stat, p))\n",
    "if p > 0.05:\n",
    "\tprint('Probably the same distribution')\n",
    "else:\n",
    "\tprint('Probably different distributions')"
   ]
  },
  {
   "cell_type": "code",
   "execution_count": null,
   "metadata": {},
   "outputs": [],
   "source": [
    "# Reconstrução do dataset a partir do modelo\n",
    "import matplotlib.pyplot as plt\n",
    "\n",
    "fig, ax = plt.subplots(nrows = 3, ncols = 4, figsize = [10, 8])\n",
    "\n",
    "for i in range(3):\n",
    "    zi = Minv @ W.T @ (X[i] - mi).T\n",
    "    xi = ((W @ zi).T + mi)\n",
    "    sample = X[i].reshape((8,8))\n",
    "    recons = xi.reshape((8,8))\n",
    "    ax[i, 0].set_yticks([]);ax[i, 0].set_xticks([]);\n",
    "    ax[i, 0].imshow(sample, cmap='gray')\n",
    "    ax[i, 1].set_yticks([]);ax[i, 1].set_xticks([]);\n",
    "    ax[i, 1].imshow(recons, cmap='Blues')\n",
    "    \n",
    "    zi = Minv @ W.T @ (X[i+3] - mi).T\n",
    "    xi = ((W @ zi).T + mi)\n",
    "    sample = X[i+5].reshape((8,8))\n",
    "    recons = xi.reshape((8,8))\n",
    "    ax[i, 2].set_yticks([]);ax[i, 2].set_xticks([]);\n",
    "    ax[i, 2].imshow(sample, cmap='gray')\n",
    "    ax[i, 3].set_yticks([]);ax[i, 3].set_xticks([]);\n",
    "    ax[i, 3].imshow(recons, cmap='Blues')\n",
    "    \n",
    "fig.savefig(f'output/recon_{L}.png')"
   ]
  },
  {
   "cell_type": "code",
   "execution_count": null,
   "metadata": {},
   "outputs": [],
   "source": [
    "# Geração de novas amostras\n",
    "from numpy.random import multivariate_normal\n",
    "\n",
    "import matplotlib.pyplot as plt\n",
    "fig, ax = plt.subplots(nrows = 2, ncols = 4, figsize = [10, 5])\n",
    "for i in range(8):\n",
    "    zi = np.matrix(multivariate_normal(mean = np.zeros(L), cov = np.eye(L))).T\n",
    "    xi = ((W @ zi).T + mi).reshape((8,8))\n",
    "    ax[i // 4, i % 4].set_yticks([]);ax[i // 4, i % 4].set_xticks([]);\n",
    "    ax[i // 4, i % 4].imshow(xi, cmap='Greens')\n",
    "\n",
    "fig.savefig(f'output/gen_{L}.png')"
   ]
  }
 ],
 "metadata": {
  "kernelspec": {
   "display_name": "Python 3",
   "language": "python",
   "name": "python3"
  },
  "language_info": {
   "codemirror_mode": {
    "name": "ipython",
    "version": 3
   },
   "file_extension": ".py",
   "mimetype": "text/x-python",
   "name": "python",
   "nbconvert_exporter": "python",
   "pygments_lexer": "ipython3",
   "version": "3.8.5"
  }
 },
 "nbformat": 4,
 "nbformat_minor": 4
}
