{
 "cells": [
  {
   "cell_type": "code",
   "execution_count": 1,
   "metadata": {},
   "outputs": [],
   "source": [
    "# Carregamento do dataset\n",
    "from sklearn.datasets import load_digits\n",
    "digits = load_digits()\n",
    "data = []\n",
    "a = [data.append(digits['data'][i]) if digits['target'][i] == 5 else None for i in range(len(digits['data']))]"
   ]
  },
  {
   "cell_type": "code",
   "execution_count": 2,
   "metadata": {},
   "outputs": [],
   "source": [
    "import numpy as np\n",
    "X = np.matrix(data)"
   ]
  },
  {
   "cell_type": "code",
   "execution_count": 3,
   "metadata": {},
   "outputs": [],
   "source": [
    "# Iniciais\n",
    "L = 40\n",
    "D = X.shape[1]\n",
    "N = X.shape[0]\n",
    "mi = X.mean(axis = 0)\n",
    "W = np.ones((D, L))\n",
    "I = np.eye(L)\n",
    "sig2 = 1"
   ]
  },
  {
   "cell_type": "code",
   "execution_count": 4,
   "metadata": {},
   "outputs": [],
   "source": [
    "for i in range(1000):\n",
    "    # Passo E\n",
    "    M = W.T @ W + sig2 * I\n",
    "    Minv = np.linalg.pinv(M)\n",
    "    Ez = Minv @ W.T @ (X - np.repeat(mi, N, axis = 0)).T\n",
    "    Ezz = sig2 * Minv + Ez @ Ez.T\n",
    "\n",
    "    # Passo M\n",
    "    W = (X - np.repeat(mi, N, axis = 0)).T @ Ez.T @ np.linalg.inv(Ezz)\n",
    "    sig2 = 1.0/(N*D) * (np.power((X - np.repeat(mi, N, axis = 0)),2)).sum() - 2 * ((Ez.T @ W.T).T @ (X - np.repeat(mi, N, axis = 0))).sum() + np.trace(Ezz.T @ W.T @ W)"
   ]
  },
  {
   "cell_type": "code",
   "execution_count": 5,
   "metadata": {},
   "outputs": [
    {
     "data": {
      "image/png": "[encoded data removed]",
      "text/plain": [
       "<Figure size 720x576 with 12 Axes>"
      ]
     },
     "metadata": {},
     "output_type": "display_data"
    }
   ],
   "source": [
    "# Reconstrução do dataset a partir do modelo\n",
    "import matplotlib.pyplot as plt\n",
    "\n",
    "fig, ax = plt.subplots(nrows = 3, ncols = 4, figsize = [10, 8])\n",
    "\n",
    "for i in range(3):\n",
    "    zi = Minv @ W.T @ (X[i] - mi).T\n",
    "    xi = ((W @ zi).T + mi)\n",
    "    sample = X[i].reshape((8,8))\n",
    "    recons = xi.reshape((8,8))\n",
    "    ax[i, 0].set_yticks([]);ax[i, 0].set_xticks([]);\n",
    "    ax[i, 0].imshow(sample, cmap='gray')\n",
    "    ax[i, 1].set_yticks([]);ax[i, 1].set_xticks([]);\n",
    "    ax[i, 1].imshow(recons, cmap='Blues')\n",
    "    \n",
    "    zi = Minv @ W.T @ (X[i+3] - mi).T\n",
    "    xi = ((W @ zi).T + mi)\n",
    "    sample = X[i+5].reshape((8,8))\n",
    "    recons = xi.reshape((8,8))\n",
    "    ax[i, 2].set_yticks([]);ax[i, 2].set_xticks([]);\n",
    "    ax[i, 2].imshow(sample, cmap='gray')\n",
    "    ax[i, 3].set_yticks([]);ax[i, 3].set_xticks([]);\n",
    "    ax[i, 3].imshow(recons, cmap='Blues')\n",
    "    \n",
    "fig.savefig(f'output/recon_{L}.png')"
   ]
  },
  {
   "cell_type": "code",
   "execution_count": 6,
   "metadata": {},
   "outputs": [
    {
     "data": {
      "image/png": "[encoded data removed]",
      "text/plain": [
       "<Figure size 720x360 with 8 Axes>"
      ]
     },
     "metadata": {},
     "output_type": "display_data"
    }
   ],
   "source": [
    "# Geração de novas amostras\n",
    "from numpy.random import multivariate_normal\n",
    "\n",
    "import matplotlib.pyplot as plt\n",
    "fig, ax = plt.subplots(nrows = 2, ncols = 4, figsize = [10, 5])\n",
    "for i in range(8):\n",
    "    zi = np.matrix(multivariate_normal(mean = np.zeros(L), cov = np.eye(L))).T\n",
    "    xi = ((W @ zi).T + mi).reshape((8,8))\n",
    "    ax[i // 4, i % 4].set_yticks([]);ax[i // 4, i % 4].set_xticks([]);\n",
    "    ax[i // 4, i % 4].imshow(xi, cmap='Greens')\n",
    "\n",
    "fig.savefig(f'output/gen_{L}.png')"
   ]
  },
  {
   "cell_type": "code",
   "execution_count": null,
   "metadata": {},
   "outputs": [],
   "source": []
  }
 ],
 "metadata": {
  "kernelspec": {
   "display_name": "Python 3",
   "language": "python",
   "name": "python3"
  },
  "language_info": {
   "codemirror_mode": {
    "name": "ipython",
    "version": 3
   },
   "file_extension": ".py",
   "mimetype": "text/x-python",
   "name": "python",
   "nbconvert_exporter": "python",
   "pygments_lexer": "ipython3",
   "version": "3.8.3"
  }
 },
 "nbformat": 4,
 "nbformat_minor": 4
}
