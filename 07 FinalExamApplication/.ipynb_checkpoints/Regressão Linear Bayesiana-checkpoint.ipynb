{
 "cells": [
  {
   "cell_type": "code",
   "execution_count": null,
   "metadata": {},
   "outputs": [],
   "source": [
    "import pandas as pd\n",
    "import numpy as np\n",
    "data = pd.read_csv(\n",
    "    'linear_regression_data.csv'\n",
    "    , header = None)\n",
    "pol = None"
   ]
  },
  {
   "cell_type": "code",
   "execution_count": null,
   "metadata": {},
   "outputs": [],
   "source": [
    "data.columns = ['x', 'y']"
   ]
  },
  {
   "cell_type": "code",
   "execution_count": null,
   "metadata": {},
   "outputs": [],
   "source": [
    "X = np.matrix(data.x.values).T\n",
    "Y = np.matrix(data.y.values).T"
   ]
  },
  {
   "cell_type": "code",
   "execution_count": null,
   "metadata": {},
   "outputs": [],
   "source": [
    "def transform(X, pol = None):\n",
    "    X2 = X.copy()\n",
    "    if pol:\n",
    "        for i in range(pol-1):\n",
    "            X = np.hstack((X, np.power(X2, i+2)))\n",
    "    X = np.hstack((np.ones((len(X), 1)), X))\n",
    "    \n",
    "    return X"
   ]
  },
  {
   "cell_type": "code",
   "execution_count": null,
   "metadata": {},
   "outputs": [],
   "source": [
    "X = transform(X, pol = pol)\n",
    "X"
   ]
  },
  {
   "cell_type": "code",
   "execution_count": null,
   "metadata": {},
   "outputs": [],
   "source": [
    "m0 = np.ones((X.shape[1], 1))*0.1\n",
    "S0 = np.eye(X.shape[1])*0.1\n",
    "sig0 = 0.1\n",
    "I = np.eye(X.shape[1])*0.1"
   ]
  },
  {
   "cell_type": "code",
   "execution_count": null,
   "metadata": {},
   "outputs": [],
   "source": [
    "import matplotlib.pyplot as plt\n",
    "X_ = np.matrix(np.linspace(X[:, 1].min(), X[:, 1].max(), 20)).T\n",
    "X_ = transform(X_, pol)\n",
    "\n",
    "def graph_plot(ax, A, B, m, S, sig0):\n",
    "    \n",
    "    Med = X_ @ m\n",
    "    Dev = X_ @ S @ X_.T + sig0 * np.eye(len(X_))\n",
    "    Sup = Med + 2*np.matrix(np.sqrt(np.diag(Dev))).T\n",
    "    Inf = Med - 2*np.matrix(np.sqrt(np.diag(Dev))).T\n",
    "\n",
    "    ax.plot(X_[:, 1], Med, color = 'black')\n",
    "    ax.plot(X_[:, 1], Sup, color = '#bdbdbd')\n",
    "    ax.plot(X_[:, 1], Inf, color = '#bdbdbd')\n",
    "    ax.fill_between(\n",
    "        np.squeeze(np.asarray(X_[:, 1].T)), \n",
    "        np.squeeze(np.asarray(Inf.T)), \n",
    "        np.squeeze(np.asarray(Sup.T)), \n",
    "        color = '#bdbdbd'\n",
    "    )\n",
    "    ax.plot(A, B, linestyle = '', marker = 'o')"
   ]
  },
  {
   "cell_type": "code",
   "execution_count": null,
   "metadata": {},
   "outputs": [],
   "source": [
    "fig, ax = plt.subplots(ncols=2, nrows = len(X) // 2, figsize = [15, 20])\n",
    "for i in range(len(X)):\n",
    "    x = X[i, :]\n",
    "    y = Y[i, :]\n",
    "    m0 = m0 + np.linalg.pinv(S0 @ x.T @ x + sig0 * I) @ S0 @ x.T @ (y - x @ m0)\n",
    "    S0 = S0 - np.linalg.pinv(S0 @ x.T @ x + sig0 * I) @ S0 @ x.T @ x @ S0    \n",
    "    graph_plot(ax[i // 2, i % 2], X[0:(i+1), 1], Y[0:(i+1), 0], m0, S0, sig0)\n",
    "    \n",
    "fig.savefig('q1.png')"
   ]
  },
  {
   "cell_type": "code",
   "execution_count": null,
   "metadata": {},
   "outputs": [],
   "source": []
  }
 ],
 "metadata": {
  "kernelspec": {
   "display_name": "Python 3",
   "language": "python",
   "name": "python3"
  },
  "language_info": {
   "codemirror_mode": {
    "name": "ipython",
    "version": 3
   },
   "file_extension": ".py",
   "mimetype": "text/x-python",
   "name": "python",
   "nbconvert_exporter": "python",
   "pygments_lexer": "ipython3",
   "version": "3.8.5"
  }
 },
 "nbformat": 4,
 "nbformat_minor": 4
}
