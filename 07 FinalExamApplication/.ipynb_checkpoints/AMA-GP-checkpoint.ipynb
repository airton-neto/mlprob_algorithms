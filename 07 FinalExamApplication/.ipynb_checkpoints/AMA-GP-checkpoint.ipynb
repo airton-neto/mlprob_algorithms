{
 "cells": [
  {
   "cell_type": "code",
   "execution_count": null,
   "id": "subject-likelihood",
   "metadata": {},
   "outputs": [],
   "source": [
    "import numpy as np\n",
    "import pandas as pd\n",
    "from psycopg2.sql import SQL, Identifier\n",
    "from delfos import MetaDAO\n",
    "meta = MetaDAO('jeri')\n",
    "client = meta.get_clientDAO('ve_new')\n",
    "client.DEBUG = False"
   ]
  },
  {
   "cell_type": "code",
   "execution_count": null,
   "id": "spiritual-freeware",
   "metadata": {},
   "outputs": [],
   "source": [
    "%load_ext autoreload\n",
    "%autoreload 2"
   ]
  },
  {
   "cell_type": "markdown",
   "id": "proper-fortune",
   "metadata": {},
   "source": [
    "## Data Gathering"
   ]
  },
  {
   "cell_type": "code",
   "execution_count": null,
   "id": "judicial-notebook",
   "metadata": {},
   "outputs": [],
   "source": [
    "ref_air_density = 1.06"
   ]
  },
  {
   "cell_type": "code",
   "execution_count": null,
   "id": "sonic-reservation",
   "metadata": {},
   "outputs": [],
   "source": [
    "# Variables dataset\n",
    "from gets import get_tower_dataset\n",
    "data = get_tower_dataset(client, '2021-02-01', '2021-03-01')\n",
    "from plots import plot_dataset\n",
    "plot_dataset(data)"
   ]
  },
  {
   "cell_type": "code",
   "execution_count": null,
   "id": "statutory-retention",
   "metadata": {},
   "outputs": [],
   "source": [
    "# Variables dataset\n",
    "from gets import get_tower_dataset\n",
    "data = get_tower_dataset(client, '2019-06-30', '2020-07-01')\n",
    "from plots import plot_dataset\n",
    "plot_dataset(data)"
   ]
  },
  {
   "cell_type": "code",
   "execution_count": null,
   "id": "legislative-element",
   "metadata": {},
   "outputs": [],
   "source": [
    "towers = client.read_query('SELECT id FROM device.metmast WHERE id > 9010').id.values.tolist()\n",
    "# Gathering dataset for training processe\n",
    "from gets import get_power_curve, limitations, get_data, adjust_dataset, get_apm_dataset\n",
    "start = '2019-07-01'\n",
    "end = '2020-07-01'\n",
    "periods = limitations(start, end)\n",
    "data, start, end = get_data(client, periods, towers=towers)"
   ]
  },
  {
   "cell_type": "code",
   "execution_count": null,
   "id": "educated-writing",
   "metadata": {},
   "outputs": [],
   "source": [
    "X, Y, X_test, Y_test, normalizing = adjust_dataset(data, div = 0.8)"
   ]
  },
  {
   "cell_type": "code",
   "execution_count": null,
   "id": "handy-authentication",
   "metadata": {},
   "outputs": [],
   "source": [
    "from matplotlib import pyplot as plt\n",
    "plt.figure(figsize = [16, 5])\n",
    "plt.plot(Y)\n",
    "plt.figure(figsize = [16, 5])\n",
    "plt.plot(Y_test)"
   ]
  },
  {
   "cell_type": "code",
   "execution_count": null,
   "id": "funded-cargo",
   "metadata": {},
   "outputs": [],
   "source": [
    "%time\n",
    "# Modelo SVGP\n",
    "from gp_model import build_model, train_model, save, load\n",
    "from plots import plot_train, plot_test, plot_variables, plot_pc\n",
    "\n",
    "inducing_size = 550\n",
    "m, Z = build_model(X, Y, inducing_size=inducing_size, return_inducing_set=True)\n",
    "logf0 = train_model(m, X, Y, epochs = 40000, learning_rate=0.1)\n",
    "plot_train(logf0)\n",
    "logf1 = train_model(m, X, Y, epochs = 40000, learning_rate=0.01)\n",
    "plot_train(logf1)\n",
    "logf2 = train_model(m, X, Y, epochs = 20000, learning_rate=0.001)\n",
    "plot_train(logf2)"
   ]
  },
  {
   "cell_type": "code",
   "execution_count": null,
   "id": "encouraging-mandate",
   "metadata": {},
   "outputs": [],
   "source": [
    "from plots import plot_train, plot_test, plot_variables, plot_pc\n",
    "Y_mean, Y_var = m.predict_f(X_test)\n",
    "Y_std = np.sqrt(Y_var.numpy())\n",
    "plot_test(Y_test, Y_mean, Y_std, 0, 1000)"
   ]
  },
  {
   "cell_type": "code",
   "execution_count": null,
   "id": "bright-crack",
   "metadata": {},
   "outputs": [],
   "source": [
    "import matplotlib.pyplot as plt\n",
    "plt.plot(X.mean(axis=1), Y, marker = 'o', linestyle = '')\n",
    "plt.plot(X_test.mean(axis=1), Y_mean.numpy(), marker = 'o', linestyle = '')"
   ]
  },
  {
   "cell_type": "code",
   "execution_count": null,
   "id": "important-quality",
   "metadata": {},
   "outputs": [],
   "source": [
    "save(m, normalizing, f'models/FULL_PARK_MODEL_14.json')"
   ]
  }
 ],
 "metadata": {
  "kernelspec": {
   "display_name": "Python 3",
   "language": "python",
   "name": "python3"
  },
  "language_info": {
   "codemirror_mode": {
    "name": "ipython",
    "version": 3
   },
   "file_extension": ".py",
   "mimetype": "text/x-python",
   "name": "python",
   "nbconvert_exporter": "python",
   "pygments_lexer": "ipython3",
   "version": "3.8.5"
  },
  "latex_envs": {
   "LaTeX_envs_menu_present": true,
   "autoclose": true,
   "autocomplete": true,
   "bibliofile": "biblio.bib",
   "cite_by": "apalike",
   "current_citInitial": 1,
   "eqLabelWithNumbers": true,
   "eqNumInitial": 1,
   "hotkeys": {
    "equation": "Ctrl-E",
    "itemize": "Ctrl-I"
   },
   "labels_anchors": false,
   "latex_user_defs": false,
   "report_style_numbering": false,
   "user_envs_cfg": false
  },
  "toc": {
   "base_numbering": 1,
   "nav_menu": {},
   "number_sections": true,
   "sideBar": true,
   "skip_h1_title": false,
   "title_cell": "Table of Contents",
   "title_sidebar": "Contents",
   "toc_cell": false,
   "toc_position": {},
   "toc_section_display": true,
   "toc_window_display": false
  },
  "varInspector": {
   "cols": {
    "lenName": "16",
    "lenType": "16",
    "lenVar": "40"
   },
   "kernels_config": {
    "python": {
     "delete_cmd_postfix": "",
     "delete_cmd_prefix": "del ",
     "library": "var_list.py",
     "varRefreshCmd": "print(var_dic_list())"
    },
    "r": {
     "delete_cmd_postfix": ") ",
     "delete_cmd_prefix": "rm(",
     "library": "var_list.r",
     "varRefreshCmd": "cat(var_dic_list()) "
    }
   },
   "types_to_exclude": [
    "module",
    "function",
    "builtin_function_or_method",
    "instance",
    "_Feature"
   ],
   "window_display": true
  }
 },
 "nbformat": 4,
 "nbformat_minor": 5
}
