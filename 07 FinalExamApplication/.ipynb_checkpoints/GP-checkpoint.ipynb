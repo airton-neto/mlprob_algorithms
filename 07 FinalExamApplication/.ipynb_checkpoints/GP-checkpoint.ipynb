{
 "cells": [
  {
   "cell_type": "code",
   "execution_count": null,
   "id": "objective-wesley",
   "metadata": {},
   "outputs": [],
   "source": [
    "import pandas as pd\n",
    "import numpy as np\n",
    "from scipy.linalg import cho_factor, solve_triangular\n",
    "from scipy.optimize import minimize\n",
    "from sklearn.metrics import mean_squared_error\n",
    "\n",
    "# Definição dos Dados\n",
    "data = pd.read_csv('gp_data.csv', header = None)\n",
    "X = (np.array(data[0].values).T)[..., None]\n",
    "Y = (np.array(data[1].values).T)[..., None]\n",
    "\n",
    "import matplotlib.pyplot as plt\n",
    "plt.figure(figsize = [16, 7])\n",
    "plt.plot(X, Y, linestyle = '', marker = 'o', markersize = 3)\n",
    "plt.title('Dataset X', fontsize = 15)"
   ]
  },
  {
   "cell_type": "code",
   "execution_count": null,
   "id": "broadband-johns",
   "metadata": {},
   "outputs": [],
   "source": [
    "# Definição da covariância da Priori e dos Hiperparâmetros\n",
    "N = X.shape[0]\n",
    "sig2f = 1 #float(np.cov(Y.T))\n",
    "wd2 = 20 / (X.max() - X.min()) ** 2\n",
    "sig2y = 0.01*sig2f\n",
    "I = np.eye(N)\n",
    "def rbf(X, XJ, sig2f, wd2):\n",
    "    return sig2f * np.exp(-1/2 * wd2 * (X - XJ) ** 2)"
   ]
  },
  {
   "cell_type": "code",
   "execution_count": null,
   "id": "incorporated-soundtrack",
   "metadata": {},
   "outputs": [],
   "source": [
    "# Definição da função logverossimililhançamarginal\n",
    "def logvermarginal(x):\n",
    "    sig2f, wd2, sig2y = x[0], x[1], x[2]\n",
    "    K = rbf(X, X.T, sig2f, wd2)\n",
    "    Ky = K + sig2y * I\n",
    "    L, _ = cho_factor(Ky, lower = True)\n",
    "    alpha = solve_triangular(L, Y)\n",
    "    elbo = float(np.log(np.diag(L)).sum() + 1/2 * alpha.T @ alpha + N/2 * np.log(2*np.pi))\n",
    "\n",
    "    return elbo"
   ]
  },
  {
   "cell_type": "code",
   "execution_count": null,
   "id": "positive-advocacy",
   "metadata": {},
   "outputs": [],
   "source": [
    "# Minimização utilizando o scipy (algoritmo L-BFGS-B)\n",
    "x0 = np.array([sig2f, wd2, sig2y])\n",
    "m = minimize(logvermarginal, x0, bounds = [(0.00001, None), (0.00001, None), (0.00001, None)], method = 'L-BFGS-B')\n",
    "x = m.x\n",
    "sig2f, wd2, sig2y = x[0], x[1], x[2]"
   ]
  },
  {
   "cell_type": "code",
   "execution_count": null,
   "id": "enclosed-adoption",
   "metadata": {},
   "outputs": [],
   "source": [
    "# Etapa de Predição\n",
    "X_ = X.copy() #np.linspace(-1, 1, 100)[..., None]\n",
    "K = rbf(X, X.T, sig2f, wd2)\n",
    "K_ = rbf(X, X_.T, sig2f, wd2)       \n",
    "K__ = rbf(X_, X_.T, sig2f, wd2)       \n",
    "Ky = K + sig2y*I\n",
    "L = np.linalg.cholesky(Ky)\n",
    "\n",
    "v = solve_triangular(L, K_, lower = True)\n",
    "u = solve_triangular(L, Y, lower = True)\n",
    "\n",
    "Y_mean = v.T @ u\n",
    "Y_dev = np.sqrt(np.diag(K__ - v.T @ v))[..., None]"
   ]
  },
  {
   "cell_type": "code",
   "execution_count": null,
   "id": "respiratory-teacher",
   "metadata": {},
   "outputs": [],
   "source": [
    "nlpd = 1/2 * np.log(2 * np.pi) + (np.log(Y_dev ** 2) + ((Y - Y_dev)/Y_dev) ** 2).sum()/(2*X.shape[0])\n",
    "rmse = mean_squared_error(Y, Y_mean)\n",
    "\n",
    "# Visualização dos dados\n",
    "F = np.hstack((X_, Y_mean, Y_dev))\n",
    "F = F[F[:, 0].argsort()]\n",
    "\n",
    "import matplotlib.pyplot as plt\n",
    "plt.figure(figsize = [16, 7])\n",
    "plt.plot(X, Y, linestyle = '', marker = 'o', markersize = 3)\n",
    "plt.plot(F[:, 0], F[:, 1])\n",
    "plt.fill_between(F[:, 0].flatten(), (F[:, 1] - F[:, 2]).flatten(), (F[:, 1] + F[:, 2]).flatten(), color = '#bdbdbd')\n",
    "_ = plt.title(f'RMSE: {rmse:.5f} NLPD: {nlpd:.2f}', fontsize = 15)"
   ]
  }
 ],
 "metadata": {
  "kernelspec": {
   "display_name": "Python 3",
   "language": "python",
   "name": "python3"
  },
  "language_info": {
   "codemirror_mode": {
    "name": "ipython",
    "version": 3
   },
   "file_extension": ".py",
   "mimetype": "text/x-python",
   "name": "python",
   "nbconvert_exporter": "python",
   "pygments_lexer": "ipython3",
   "version": "3.8.5"
  },
  "latex_envs": {
   "LaTeX_envs_menu_present": true,
   "autoclose": true,
   "autocomplete": true,
   "bibliofile": "biblio.bib",
   "cite_by": "apalike",
   "current_citInitial": 1,
   "eqLabelWithNumbers": true,
   "eqNumInitial": 1,
   "hotkeys": {
    "equation": "Ctrl-E",
    "itemize": "Ctrl-I"
   },
   "labels_anchors": false,
   "latex_user_defs": false,
   "report_style_numbering": false,
   "user_envs_cfg": false
  },
  "toc": {
   "base_numbering": 1,
   "nav_menu": {},
   "number_sections": true,
   "sideBar": true,
   "skip_h1_title": false,
   "title_cell": "Table of Contents",
   "title_sidebar": "Contents",
   "toc_cell": false,
   "toc_position": {},
   "toc_section_display": true,
   "toc_window_display": false
  },
  "varInspector": {
   "cols": {
    "lenName": "16",
    "lenType": "16",
    "lenVar": "40"
   },
   "kernels_config": {
    "python": {
     "delete_cmd_postfix": "",
     "delete_cmd_prefix": "del ",
     "library": "var_list.py",
     "varRefreshCmd": "print(var_dic_list())"
    },
    "r": {
     "delete_cmd_postfix": ") ",
     "delete_cmd_prefix": "rm(",
     "library": "var_list.r",
     "varRefreshCmd": "cat(var_dic_list()) "
    }
   },
   "position": {
    "height": "497px",
    "left": "1194px",
    "right": "20px",
    "top": "82px",
    "width": "226px"
   },
   "types_to_exclude": [
    "module",
    "function",
    "builtin_function_or_method",
    "instance",
    "_Feature"
   ],
   "window_display": true
  }
 },
 "nbformat": 4,
 "nbformat_minor": 5
}
