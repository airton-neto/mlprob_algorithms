{
 "cells": [
  {
   "cell_type": "code",
   "execution_count": 1,
   "metadata": {},
   "outputs": [],
   "source": [
    "import pandas as pd\n",
    "import numpy as np\n",
    "\n",
    "# Cnnformação dos Dados\n",
    "data = pd.read_csv('votesDataset.csv' ,header = 0)\n",
    "\n",
    "data.columns = ['y'] + [i for i in range(len(data.columns) - 1)]\n",
    "data['y'] = (data['y'] == 'republican')*1"
   ]
  },
  {
   "cell_type": "code",
   "execution_count": 2,
   "metadata": {},
   "outputs": [],
   "source": [
    "a, b = 6, 6\n",
    "alpha_r, alpha_d = 6, 6"
   ]
  },
  {
   "cell_type": "code",
   "execution_count": 3,
   "metadata": {},
   "outputs": [],
   "source": [
    "pi_c = ((data.sum(axis = 0) + alpha_r).T/(len(data) + alpha_r + alpha_d))['y']\n",
    "tetha_r = (data[data.y == 1].sum() + a)/(len(data[data.y == 1]) + a + b)\n",
    "tetha_d = (data[data.y == 0].sum() + b)/(len(data[data.y == 0]) + a + b)\n",
    "y = data.y.values.tolist()"
   ]
  },
  {
   "cell_type": "code",
   "execution_count": 4,
   "metadata": {},
   "outputs": [],
   "source": [
    "# Aplicação do Método\n",
    "y_hat = []\n",
    "for index, row in data.iterrows():\n",
    "    log_rep = np.log(pi_c) + sum(\n",
    "        [\n",
    "            tetha_r[row[i]] if row[i] else (1 - tetha_r[row[i]])\n",
    "            for i in range(len(data.columns) - 1)\n",
    "        ]\n",
    "    )\n",
    "\n",
    "    log_dem = np.log(1 - pi_c) + sum(\n",
    "        [\n",
    "            (1 - tetha_d[row[i]]) if row[i] else tetha_d[row[i]]\n",
    "            for i in range(len(data.columns) - 1)\n",
    "        ]\n",
    "    )\n",
    "    \n",
    "    y_hat.append((log_rep > log_dem)*1)"
   ]
  },
  {
   "cell_type": "code",
   "execution_count": 5,
   "metadata": {},
   "outputs": [],
   "source": [
    "# Matriz de Confusão\n",
    "d = np.zeros((2, 2))\n",
    "for i in range(len(y)):\n",
    "    d[y_hat[i], y[i]] += 1"
   ]
  },
  {
   "cell_type": "code",
   "execution_count": 6,
   "metadata": {},
   "outputs": [
    {
     "data": {
      "text/plain": [
       "<matplotlib.axes._subplots.AxesSubplot at 0x7f2802b13bb0>"
      ]
     },
     "execution_count": 6,
     "metadata": {},
     "output_type": "execute_result"
    },
    {
     "data": {
      "image/png": "[encoded data removed]",
      "text/plain": [
       "<Figure size 432x288 with 2 Axes>"
      ]
     },
     "metadata": {
      "needs_background": "light"
     },
     "output_type": "display_data"
    }
   ],
   "source": [
    "import seaborn\n",
    "seaborn.heatmap(\n",
    "    d, \n",
    "    cmap = 'Blues',\n",
    "    annot = True, \n",
    "    annot_kws={\"size\": 16}, \n",
    "    fmt = 'g', \n",
    "    xticklabels = ['Dem', 'Rep'], \n",
    "    yticklabels = ['Dem', 'Rep']\n",
    ")"
   ]
  },
  {
   "cell_type": "code",
   "execution_count": null,
   "metadata": {},
   "outputs": [],
   "source": []
  }
 ],
 "metadata": {
  "kernelspec": {
   "display_name": "Python 3",
   "language": "python",
   "name": "python3"
  },
  "language_info": {
   "codemirror_mode": {
    "name": "ipython",
    "version": 3
   },
   "file_extension": ".py",
   "mimetype": "text/x-python",
   "name": "python",
   "nbconvert_exporter": "python",
   "pygments_lexer": "ipython3",
   "version": "3.8.3"
  }
 },
 "nbformat": 4,
 "nbformat_minor": 4
}
