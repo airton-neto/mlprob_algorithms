{
 "cells": [
  {
   "cell_type": "code",
   "execution_count": 1,
   "metadata": {},
   "outputs": [],
   "source": [
    "import pandas as pd\n",
    "import numpy as np\n",
    "data = pd.read_csv(\n",
    "    'logistic_regression_data.csv'\n",
    "    , header = None)\n",
    "pol = None"
   ]
  },
  {
   "cell_type": "code",
   "execution_count": 2,
   "metadata": {},
   "outputs": [],
   "source": [
    "data.columns = ['x1', 'x2', 'y']\n",
    "\n",
    "X = np.matrix(data[['x1', 'x2']].values)\n",
    "Y = np.matrix(data.y.values).T\n",
    "\n",
    "def transform(X, pol = None):\n",
    "    X2 = X.copy()\n",
    "    if pol:\n",
    "        for i in range(pol-1):\n",
    "            X = np.hstack((X, np.power(X2, i+2)))\n",
    "    X = np.hstack((np.ones((len(X), 1)), X))\n",
    "    \n",
    "    return X\n",
    "\n",
    "X = transform(X, pol = pol)\n",
    "\n",
    "def sigmoid(x):\n",
    "    return 1/(1 + np.exp(-x))"
   ]
  },
  {
   "cell_type": "code",
   "execution_count": 3,
   "metadata": {},
   "outputs": [
    {
     "data": {
      "text/plain": [
       "Text(0.5, 0, 'loglikelihood')"
      ]
     },
     "execution_count": 3,
     "metadata": {},
     "output_type": "execute_result"
    },
    {
     "data": {
      "image/png": "[encoded data removed]",
      "text/plain": [
       "<Figure size 432x288 with 1 Axes>"
      ]
     },
     "metadata": {
      "needs_background": "light"
     },
     "output_type": "display_data"
    }
   ],
   "source": [
    "m0 = np.matrix([0,-1,0]).T\n",
    "S0 = np.eye(X.shape[1])*0.1\n",
    "sig0 = 0.3\n",
    "w = m0\n",
    "\n",
    "# Solução MAP usando IRLS\n",
    "errs = []\n",
    "err = 1;old_err = 2;\n",
    "while abs(err - old_err) > 0.01:\n",
    "    old_err = err\n",
    "    R = np.eye(len(X))\n",
    "    np.fill_diagonal(R, sigmoid(X @ w))\n",
    "    Grad = -X.T @ (Y - sigmoid(X @ w)) + np.linalg.inv(S0) @ (w - m0)\n",
    "    A = X.T @ R @ X + np.linalg.inv(S0)\n",
    "    w  = w - np.linalg.inv(A) @ Grad    \n",
    "    err = Y.T @ np.log(sigmoid(X @ w)) + (1 - Y).T @ np.log(1 - sigmoid(X @ w))\n",
    "    errs.append(err[0, 0])\n",
    "    \n",
    "w\n",
    "\n",
    "import matplotlib.pyplot as plt\n",
    "plt.plot(errs)\n",
    "plt.xlabel('loglikelihood')"
   ]
  },
  {
   "cell_type": "code",
   "execution_count": 4,
   "metadata": {},
   "outputs": [],
   "source": [
    "# Passo de Predição - Aproximação probit\n",
    "mi_a = X @ w\n",
    "R = np.eye(len(R))\n",
    "np.fill_diagonal(R, sigmoid(X @ w))\n",
    "H = X.T @ R @ X + np.linalg.inv(S0)\n",
    "sig2_a = X @ np.linalg.inv(H) @ X.T"
   ]
  },
  {
   "cell_type": "code",
   "execution_count": 5,
   "metadata": {},
   "outputs": [
    {
     "data": {
      "text/plain": [
       "Text(0.5, 0, 'Predito')"
      ]
     },
     "execution_count": 5,
     "metadata": {},
     "output_type": "execute_result"
    },
    {
     "data": {
      "image/png": "[encoded data removed]",
      "text/plain": [
       "<Figure size 1080x360 with 2 Axes>"
      ]
     },
     "metadata": {
      "needs_background": "light"
     },
     "output_type": "display_data"
    }
   ],
   "source": [
    "from scipy.linalg import sqrtm\n",
    "P = sigmoid(sqrtm(1 + np.pi*sig2_a/8) @ mi_a)\n",
    "\n",
    "Y_hat = (P > 0.5)*1\n",
    "\n",
    "colors = {\n",
    "    0: 'red',\n",
    "    1: 'blue'\n",
    "}\n",
    "\n",
    "fig, ax = plt.subplots(ncols=2, nrows=1, figsize = [15, 5])\n",
    "for i in range(len(Y)):\n",
    "    ax[0].plot(\n",
    "        X[i, 1], X[i, 2], \n",
    "        linestyle = '', \n",
    "        marker = 'o', \n",
    "        color = colors[int(Y[i, 0])]\n",
    "    )\n",
    "    ax[1].plot(\n",
    "        X[i, 1], X[i, 2], \n",
    "        linestyle = '', \n",
    "        marker = 'o' if (int(Y_hat[i, 0]) == int(Y[i, 0])) else 'x', \n",
    "        color = colors[int(Y_hat[i, 0])]\n",
    "    )\n",
    "    \n",
    "ax[0].set_xlabel('Real', fontsize = 18)\n",
    "ax[1].set_xlabel('Predito', fontsize = 18)"
   ]
  },
  {
   "cell_type": "code",
   "execution_count": null,
   "metadata": {},
   "outputs": [],
   "source": []
  },
  {
   "cell_type": "code",
   "execution_count": null,
   "metadata": {},
   "outputs": [],
   "source": []
  }
 ],
 "metadata": {
  "kernelspec": {
   "display_name": "Python 3",
   "language": "python",
   "name": "python3"
  },
  "language_info": {
   "codemirror_mode": {
    "name": "ipython",
    "version": 3
   },
   "file_extension": ".py",
   "mimetype": "text/x-python",
   "name": "python",
   "nbconvert_exporter": "python",
   "pygments_lexer": "ipython3",
   "version": "3.8.3"
  }
 },
 "nbformat": 4,
 "nbformat_minor": 4
}
